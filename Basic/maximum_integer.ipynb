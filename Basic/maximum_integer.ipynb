{
 "cells": [
  {
   "cell_type": "markdown",
   "metadata": {},
   "source": [
    "The maximum_integer() function determines and returns the largest integer number of a series of values entered by the user."
   ]
  },
  {
   "cell_type": "code",
   "execution_count": null,
   "metadata": {},
   "outputs": [],
   "source": [
    "# Define function\n",
    "def maximum_integer(f_value: int, s_value: int, t_value: int):\n",
    "    \"\"\"Return the maximum integer of three values.\n",
    "\n",
    "    Returns:\n",
    "        int: The maximum value of a numerical series.\n",
    "    \"\"\"\n",
    "    max_int = f_value\n",
    "    if s_value > max_int:\n",
    "        max_int = s_value\n",
    "    if t_value > max_int:\n",
    "        max_int = t_value\n",
    "    return max_int\n",
    "    "
   ]
  },
  {
   "cell_type": "code",
   "execution_count": null,
   "metadata": {},
   "outputs": [],
   "source": [
    "# Accepting values entered by the user.\n",
    "first_value = int(input('Enter your first number: '))\n",
    "second_value = int(input('Enter your second number: '))\n",
    "third_value = int(input('Enter your third number: '))"
   ]
  },
  {
   "cell_type": "code",
   "execution_count": null,
   "metadata": {},
   "outputs": [],
   "source": [
    "# Calling to maximum_integer() function and as arguments, \n",
    "# we pass the values entered by the user.\n",
    "maximum_integer(first_value, second_value, third_value)"
   ]
  }
 ],
 "metadata": {
  "interpreter": {
   "hash": "59d86910e6a6582776527887c1bf49219148e3a793264fdc7618b854e870e3ea"
  },
  "kernelspec": {
   "display_name": "Python 3.9.7 ('base')",
   "language": "python",
   "name": "python3"
  },
  "language_info": {
   "codemirror_mode": {
    "name": "ipython",
    "version": 3
   },
   "file_extension": ".py",
   "mimetype": "text/x-python",
   "name": "python",
   "nbconvert_exporter": "python",
   "pygments_lexer": "ipython3",
   "version": "3.9.7"
  },
  "orig_nbformat": 4
 },
 "nbformat": 4,
 "nbformat_minor": 2
}
