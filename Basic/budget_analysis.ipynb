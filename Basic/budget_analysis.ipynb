{
  "nbformat": 4,
  "nbformat_minor": 0,
  "metadata": {
    "colab": {
      "name": "budget_analysis.ipynb",
      "provenance": [],
      "authorship_tag": "ABX9TyPF4flmQ3UYtEWIOx6/P77b",
      "include_colab_link": true
    },
    "kernelspec": {
      "name": "python3",
      "display_name": "Python 3"
    },
    "language_info": {
      "name": "python"
    }
  },
  "cells": [
    {
      "cell_type": "markdown",
      "metadata": {
        "id": "view-in-github",
        "colab_type": "text"
      },
      "source": [
        "<a href=\"https://colab.research.google.com/github/marprezd/python-lab/blob/master/Basic/budget_analysis.ipynb\" target=\"_parent\"><img src=\"https://colab.research.google.com/assets/colab-badge.svg\" alt=\"Open In Colab\"/></a>"
      ]
    },
    {
      "cell_type": "markdown",
      "source": [
        "This is a program that asks the user to enter the amount that he or she has budgeted for a month. A loop should then prompt the user to enter each of his or her expenses for the month and keep a running total. When the loop finishes, the program should display the amount that the user is over or under budget."
      ],
      "metadata": {
        "id": "C8DbxTPVeaKs"
      }
    },
    {
      "cell_type": "code",
      "source": [
        "# Initialize variable and centinele\n",
        "total_spenses = 0.0\n",
        "expenses = 'y'\n",
        "\n",
        "# Prompt the user to enter the amount that is budgeted for a month.\n",
        "monthly_budget = float(input(\"Enter the amount that budgeted \" +\n",
        "                             \"for a month >> \"))\n",
        "\n",
        "# while expenses equal to 'y/Y' loop...\n",
        "while expenses == 'y' or expenses == 'Y':\n",
        "    monthly_expense = float(input(\"Enter some monthly expense >> \"))\n",
        "    total_spenses += monthly_expense\n",
        "    expenses = input(\"Is there any other expense to add? Type 'y/Y' \" +\n",
        "                     \"to continue or 'n' to get out of the program >> \"\n",
        "                     )\n",
        "\n",
        "# Display summary header\n",
        "print()\n",
        "print(\"Your summary of the budget and monthly expenses...\")\n",
        "print(\"------------------------------------------------------------\")\n",
        "\n",
        "# Determine if the user exceeded or not your monthly budget and\n",
        "# display information\n",
        "if total_spenses > monthly_budget:\n",
        "    over_budget = total_spenses - monthly_budget\n",
        "    print(\"\\tMonthly Budget\\tTotal Expenses\\tOver Budget\")\n",
        "    print(\"------------------------------------------------------------\")\n",
        "    print(f\"\\t${monthly_budget:.2f}\\t\\t${total_spenses:.2f}\" +\n",
        "          f\"\\t\\t${over_budget:.2f}\")\n",
        "else:\n",
        "    under_budget = monthly_budget - total_spenses\n",
        "    print(\"\\tMonthly Budget\\tTotal Expenses\\tUnder Budget\")\n",
        "    print(\"------------------------------------------------------------\")\n",
        "    print(f\"\\t${monthly_budget:.2f}\\t\\t${total_spenses:.2f}\" +\n",
        "          f\"\\t\\t${under_budget:.2f}\")"
      ],
      "metadata": {
        "colab": {
          "base_uri": "https://localhost:8080/"
        },
        "id": "FMx6BCg7efTM",
        "outputId": "0e3d19ce-5e6e-4436-ce20-f5d91c105a94"
      },
      "execution_count": 1,
      "outputs": [
        {
          "output_type": "stream",
          "name": "stdout",
          "text": [
            "Enter the amount that budgeted for a month >> 25.8\n",
            "Enter some monthly expense >> 10.4\n",
            "Is there any other expense to add? Type 'y/Y' to continue or 'n' to get out of the program >> y\n",
            "Enter some monthly expense >> 5.9\n",
            "Is there any other expense to add? Type 'y/Y' to continue or 'n' to get out of the program >> y\n",
            "Enter some monthly expense >> 14.7\n",
            "Is there any other expense to add? Type 'y/Y' to continue or 'n' to get out of the program >> n\n",
            "\n",
            "Your summary of the budget and monthly expenses...\n",
            "------------------------------------------------------------\n",
            "\tMonthly Budget\tTotal Expenses\tOver Budget\n",
            "------------------------------------------------------------\n",
            "\t$25.80\t\t$31.00\t\t$5.20\n"
          ]
        }
      ]
    }
  ]
}