{
  "nbformat": 4,
  "nbformat_minor": 0,
  "metadata": {
    "colab": {
      "name": "kilometer_converter.ipynb",
      "provenance": [],
      "authorship_tag": "ABX9TyNy1wrXi9OZlmrodJ68WP+a",
      "include_colab_link": true
    },
    "kernelspec": {
      "name": "python3",
      "display_name": "Python 3"
    },
    "language_info": {
      "name": "python"
    }
  },
  "cells": [
    {
      "cell_type": "markdown",
      "metadata": {
        "id": "view-in-github",
        "colab_type": "text"
      },
      "source": [
        "<a href=\"https://colab.research.google.com/github/marprezd/python-lab/blob/master/Basic/kilometer_converter.ipynb\" target=\"_parent\"><img src=\"https://colab.research.google.com/assets/colab-badge.svg\" alt=\"Open In Colab\"/></a>"
      ]
    },
    {
      "cell_type": "code",
      "execution_count": null,
      "metadata": {
        "id": "UImMeg7eY4VG"
      },
      "outputs": [],
      "source": [
        "def main():\n",
        "    \"\"\"This function asks the user to enter a distance in\n",
        "    kilometers, then display distance in miles\"\"\"\n",
        "    distance = float(input(\"Enter distance in km: \"))\n",
        "\n",
        "    # Call to calculate_distance_in_miles function\n",
        "    result = f'{distance} km is equal to ' + \\\n",
        "        f'{calculate_distance_in_miles(distance):.1f} miles'\n",
        "\n",
        "    # Display result\n",
        "    print(result)\n",
        "\n",
        "\n",
        "def calculate_distance_in_miles(kilometers: float):\n",
        "    \"\"\"This function converts distance in kilometers to miles \n",
        "    and returns its result to the main function.\n",
        "\n",
        "    Args:\n",
        "        kilometers (float): Distance in kilometers\n",
        "\n",
        "    Returns:\n",
        "        float: Conversion formula is: \n",
        "               Miles = Kilometers x 0.6214\n",
        "    \"\"\"\n",
        "    return kilometers * 0.6214\n",
        "\n",
        "\n",
        "# Call main function\n",
        "main()"
      ]
    }
  ]
}