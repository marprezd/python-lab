{
  "nbformat": 4,
  "nbformat_minor": 0,
  "metadata": {
    "colab": {
      "name": "basic_calorie_burner_table.ipynb",
      "provenance": [],
      "authorship_tag": "ABX9TyOZRaO++pzMDjzeJGoG7IUv",
      "include_colab_link": true
    },
    "kernelspec": {
      "name": "python3",
      "display_name": "Python 3"
    },
    "language_info": {
      "name": "python"
    }
  },
  "cells": [
    {
      "cell_type": "markdown",
      "metadata": {
        "id": "view-in-github",
        "colab_type": "text"
      },
      "source": [
        "<a href=\"https://colab.research.google.com/github/marprezd/python-lab/blob/master/Basic/basic_calorie_burner_table.ipynb\" target=\"_parent\"><img src=\"https://colab.research.google.com/assets/colab-badge.svg\" alt=\"Open In Colab\"/></a>"
      ]
    },
    {
      "cell_type": "markdown",
      "source": [
        "This program uses a loop to show on a table format the number of calories burned after 10, 15, 20, 25 and 30 minutes of running on a treadmill."
      ],
      "metadata": {
        "id": "jeeYAXPJB5M4"
      }
    },
    {
      "cell_type": "code",
      "source": [
        "CAL_BURNED_PER_MINUTE = 4.2  # Constant calories burned per minute.\n",
        "\n",
        "# Header table\n",
        "print(\"TIME IN MINUTES \\tCALORIES PER MINUTE\")\n",
        "print(\"-------------------------------------------------------\")\n",
        "\n",
        "# Start loop - Body table\n",
        "for minute in range(10, 35, 5):\n",
        "    calories = minute * CAL_BURNED_PER_MINUTE\n",
        "    print(f\"{minute}\\t{calories:>21}\")\n",
        "\n",
        "# Footer table\n",
        "print(\"-------------------------------------------------------\")\n",
        "print(\"Table 1. Total calories burned after 10, 15, 20, 25, and\")\n",
        "print(\"30 minutes of running on a treadmill.\")\n"
      ],
      "metadata": {
        "colab": {
          "base_uri": "https://localhost:8080/"
        },
        "id": "GsEVch0ADizQ",
        "outputId": "f304abfd-4195-46f1-f2e3-90318d3ca8a8"
      },
      "execution_count": 1,
      "outputs": [
        {
          "output_type": "stream",
          "name": "stdout",
          "text": [
            "TIME IN MINUTES \tCALORIES PER MINUTE\n",
            "-------------------------------------------------------\n",
            "10\t                 42.0\n",
            "15\t                 63.0\n",
            "20\t                 84.0\n",
            "25\t                105.0\n",
            "30\t                126.0\n",
            "-------------------------------------------------------\n",
            "Table 1. Total calories burned after 10, 15, 20, 25, and\n",
            "30 minutes of running on a treadmill.\n"
          ]
        }
      ]
    }
  ]
}