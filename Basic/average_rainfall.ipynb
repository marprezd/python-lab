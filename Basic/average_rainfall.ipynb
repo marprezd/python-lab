{
  "nbformat": 4,
  "nbformat_minor": 0,
  "metadata": {
    "colab": {
      "name": "average_rainfall.ipynb",
      "provenance": [],
      "authorship_tag": "ABX9TyNxBfwiU2yWEclznk2wqLiX",
      "include_colab_link": true
    },
    "kernelspec": {
      "name": "python3",
      "display_name": "Python 3"
    },
    "language_info": {
      "name": "python"
    }
  },
  "cells": [
    {
      "cell_type": "markdown",
      "metadata": {
        "id": "view-in-github",
        "colab_type": "text"
      },
      "source": [
        "<a href=\"https://colab.research.google.com/github/marprezd/python-lab/blob/master/Basic/average_rainfall.ipynb\" target=\"_parent\"><img src=\"https://colab.research.google.com/assets/colab-badge.svg\" alt=\"Open In Colab\"/></a>"
      ]
    },
    {
      "cell_type": "markdown",
      "source": [
        "This is a program that uses nested loops to collect data and calculate the average rainfall over a period of years. The program should first ask for the number of years. The outer loop will iterate once for each year. The inner loop will iterate twelve times, once for each month.\n",
        "Each iteration of the inner loop will ask the user for the inches of rainfall for that month. After all iterations, the program should display the number of months, the total inches of rainfall, and the average rainfall per month for the entire period."
      ],
      "metadata": {
        "id": "-q4LL3iLgODq"
      }
    },
    {
      "cell_type": "code",
      "source": [
        "# Initialize accumulator variable, sentinel value\n",
        "total_amount_rainfall = 0.0\n",
        "total_months = 0\n",
        "restart_loop = True\n",
        "\n",
        "# Ask for the number of years with a rainy period\n",
        "years = int(input(\"Enter the total number of years with a rainy period >> \"))\n",
        "\n",
        "# Start loop\n",
        "# The outer loop will iterate once for each year\n",
        "# The inner loop will iterate twelve times,once for each month.\n",
        "while restart_loop:\n",
        "    for year in range(years):\n",
        "        for month in range(1, 13):\n",
        "            print(f\"Amount rainfall for the month '{month}' in inches.\")\n",
        "            amount_rainfall = float(input(\"Enter the amount of rain >> \"))\n",
        "            print()\n",
        "\n",
        "            # Checking the integrity of the data. Negative values\n",
        "            # are blocked!.\n",
        "            if amount_rainfall >= 0.0:\n",
        "                total_amount_rainfall += amount_rainfall\n",
        "                total_months += 1\n",
        "            else:\n",
        "                # Restart loop logic if amount_rainfall < 0.0\n",
        "                print(\"You enter a fact that is not valid: \" +\n",
        "                      f\"'{amount_rainfall}'. \" +\n",
        "                      \"You must enter a positive value. Try again!\")\n",
        "                restart_loop = True\n",
        "                break  # Force restart inner loop\n",
        "\n",
        "            # Force stop loop\n",
        "            restart_loop = False\n",
        "\n",
        "# Average rainfall per month\n",
        "average_rainfall = total_amount_rainfall / total_months\n",
        "\n",
        "# Display result\n",
        "print()\n",
        "print(\"Summary of the record of the average rainfall during the last period.\")\n",
        "print(\"---------------------------------------------------------------------\")\n",
        "print(f\"Number of months included: \\t\\t{total_months} months\")\n",
        "print(f\"Total amount of rain (in inches): \\t{total_amount_rainfall:.2f}in\")\n",
        "print(f\"Average rain (in inches): \\t\\t{average_rainfall:.2f}in/month\")"
      ],
      "metadata": {
        "colab": {
          "base_uri": "https://localhost:8080/"
        },
        "id": "2AfpptKngirC",
        "outputId": "2a23e2a5-e2fa-4587-f3a0-7e4280f49c64"
      },
      "execution_count": 1,
      "outputs": [
        {
          "output_type": "stream",
          "name": "stdout",
          "text": [
            "Enter the total number of years with a rainy period >> 1\n",
            "Amount rainfall for the month '1' in inches.\n",
            "Enter the amount of rain >> 1.2\n",
            "\n",
            "Amount rainfall for the month '2' in inches.\n",
            "Enter the amount of rain >> 2.1\n",
            "\n",
            "Amount rainfall for the month '3' in inches.\n",
            "Enter the amount of rain >> 1.9\n",
            "\n",
            "Amount rainfall for the month '4' in inches.\n",
            "Enter the amount of rain >> 1.4\n",
            "\n",
            "Amount rainfall for the month '5' in inches.\n",
            "Enter the amount of rain >> 2.6\n",
            "\n",
            "Amount rainfall for the month '6' in inches.\n",
            "Enter the amount of rain >> 1.3\n",
            "\n",
            "Amount rainfall for the month '7' in inches.\n",
            "Enter the amount of rain >> 2.0\n",
            "\n",
            "Amount rainfall for the month '8' in inches.\n",
            "Enter the amount of rain >> 3\n",
            "\n",
            "Amount rainfall for the month '9' in inches.\n",
            "Enter the amount of rain >> 1.8\n",
            "\n",
            "Amount rainfall for the month '10' in inches.\n",
            "Enter the amount of rain >> 2.4\n",
            "\n",
            "Amount rainfall for the month '11' in inches.\n",
            "Enter the amount of rain >> 2.1\n",
            "\n",
            "Amount rainfall for the month '12' in inches.\n",
            "Enter the amount of rain >> 1.6\n",
            "\n",
            "\n",
            "Summary of the record of the average rainfall during the last period.\n",
            "---------------------------------------------------------------------\n",
            "Number of months included: \t\t12 months\n",
            "Total amount of rain (in inches): \t23.40in\n",
            "Average rain (in inches): \t\t1.95in/month\n"
          ]
        }
      ]
    }
  ]
}