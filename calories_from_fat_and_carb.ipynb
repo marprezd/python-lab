{
  "nbformat": 4,
  "nbformat_minor": 0,
  "metadata": {
    "colab": {
      "name": "calories_from_fat_and_carb.ipynb",
      "provenance": [],
      "authorship_tag": "ABX9TyNr9XqRsPDHWtkzQaMxTERC",
      "include_colab_link": true
    },
    "kernelspec": {
      "name": "python3",
      "display_name": "Python 3"
    },
    "language_info": {
      "name": "python"
    }
  },
  "cells": [
    {
      "cell_type": "markdown",
      "metadata": {
        "id": "view-in-github",
        "colab_type": "text"
      },
      "source": [
        "<a href=\"https://colab.research.google.com/github/marprezd/python-lab/blob/master/calories_from_fat_and_carb.ipynb\" target=\"_parent\"><img src=\"https://colab.research.google.com/assets/colab-badge.svg\" alt=\"Open In Colab\"/></a>"
      ]
    },
    {
      "cell_type": "code",
      "execution_count": null,
      "metadata": {
        "id": "rZ5MW8oSeadK"
      },
      "outputs": [],
      "source": [
        "def main():\n",
        "    \"\"\"This function asks users for the number of fat grams and\n",
        "    carbohydrate grams that they consumed in a day. Then, displays\n",
        "    a formatted log of the calories from the fat & carbohydrates\n",
        "    consumed.\n",
        "    \"\"\"\n",
        "    # Get the number of fat grams consumed\n",
        "    print(\"How many grams of fat do you consume in a day?\")\n",
        "    fat_grams = int(input(\"Enter number of fat consumed: \"))\n",
        "\n",
        "    # Get the number of carbohydrate grams consumed\n",
        "    print(\"How many grams of carbohydrate do you consume in a day?\")\n",
        "    carbohydrate_grams = int(input(\"Enter number of carbohydrate consumed: \"))\n",
        "\n",
        "    # Call calculates_calories_from_fat and \n",
        "    # calculates_calories_from_carbohydrate functions, passing fat_grams and\n",
        "    # carbohydrate_grams as its arguments, respectively.\n",
        "    calories_fat = calculates_calories_from_fat(fat_grams)\n",
        "    calories_carb = calculates_calories_from_carbohydrate(carbohydrate_grams)\n",
        "\n",
        "    # Display result\n",
        "    print()\n",
        "    print(\"--------------------------------------------------\")\n",
        "    print(\"Calories from Fat\\tCalories from Carbohydrate\")\n",
        "    print(\"--------------------------------------------------\")\n",
        "    print(f\"{calories_fat:>13} cal {calories_carb:>28} cal\")\n",
        "    print()\n",
        "    print(\"Table 1: Calories from Fat & Carbohydrates\")\n",
        "    print()\n",
        "\n",
        "\n",
        "def calculates_calories_from_fat(fat: int):\n",
        "    \"\"\"This function calculates the number of calories that result from\n",
        "    the fat.\n",
        "\n",
        "    Args:\n",
        "        fat (int): number of fat grams\n",
        "\n",
        "    Returns:\n",
        "        int: calories_from_fat = fat (grams) x 9\n",
        "    \"\"\"\n",
        "    return fat * 9\n",
        "\n",
        "\n",
        "def calculates_calories_from_carbohydrate(carb: int):\n",
        "    \"\"\"This function calculates the number of calories that result from the\n",
        "    carbohydrates.\n",
        "\n",
        "    Args:\n",
        "        carb (int): number of carbohydrates grams\n",
        "\n",
        "    Returns:\n",
        "        int: calories_from_carbohydrates = carb (grams) x 4\n",
        "    \"\"\"\n",
        "    return carb * 4\n",
        "\n",
        "\n",
        "# Call main function\n",
        "main()"
      ]
    }
  ]
}